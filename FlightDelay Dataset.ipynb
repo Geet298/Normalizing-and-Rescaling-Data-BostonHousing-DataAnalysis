{
 "cells": [
  {
   "cell_type": "markdown",
   "id": "2384c74b",
   "metadata": {},
   "source": [
    "# Assignment 1 by Geeta Singh"
   ]
  },
  {
   "cell_type": "markdown",
   "id": "b02ccddb",
   "metadata": {},
   "source": [
    "### Question 1"
   ]
  },
  {
   "cell_type": "markdown",
   "id": "af0f4aaf",
   "metadata": {},
   "source": [
    "1. Find out the mean and standard deviation of the heights across all the baseball players. The\n",
    "mean and standard deviaion of a numpy array can be computed by np.mean() and np.std(),\n",
    "respectively.\n",
    "1\n",
    "2. Subtract the mean from each height.\n",
    "3. Divide the values in the second step (mean is already subtracted) by its standard deviation."
   ]
  },
  {
   "cell_type": "code",
   "execution_count": 16,
   "id": "8ae979ed",
   "metadata": {
    "scrolled": true
   },
   "outputs": [
    {
     "name": "stdout",
     "output_type": "stream",
     "text": [
      "[-0.5831297   1.031691   -1.39054004 -0.85226648  0.49341743  1.30082778]\n"
     ]
    }
   ],
   "source": [
    "# Answer 1\n",
    "import numpy as np\n",
    "height = [72,78, 69,71,76, 79]\n",
    "np_height = np.array(height)\n",
    "np_mean = np.mean(height)\n",
    "np_standard_deviation = np.std(height)\n",
    "height_s = (np_height - np_mean)/np_standard_deviation\n",
    "print(height_s)"
   ]
  },
  {
   "cell_type": "markdown",
   "id": "66d32595",
   "metadata": {},
   "source": [
    "### Question 2\n",
    "Beginning of second question."
   ]
  },
  {
   "cell_type": "code",
   "execution_count": 83,
   "id": "5fb332cd",
   "metadata": {},
   "outputs": [
    {
     "name": "stdout",
     "output_type": "stream",
     "text": [
      "['CRIM' 'ZN' 'INDUS' 'CHAS' 'NOX' 'RM' 'AGE' 'DIS' 'RAD' 'TAX' 'PTRATIO'\n",
      " 'B' 'LSTAT']\n",
      ".. _boston_dataset:\n",
      "\n",
      "Boston house prices dataset\n",
      "---------------------------\n",
      "\n",
      "**Data Set Characteristics:**  \n",
      "\n",
      "    :Number of Instances: 506 \n",
      "\n",
      "    :Number of Attributes: 13 numeric/categorical predictive. Median Value (attribute 14) is usually the target.\n",
      "\n",
      "    :Attribute Information (in order):\n",
      "        - CRIM     per capita crime rate by town\n",
      "        - ZN       proportion of residential land zoned for lots over 25,000 sq.ft.\n",
      "        - INDUS    proportion of non-retail business acres per town\n",
      "        - CHAS     Charles River dummy variable (= 1 if tract bounds river; 0 otherwise)\n",
      "        - NOX      nitric oxides concentration (parts per 10 million)\n",
      "        - RM       average number of rooms per dwelling\n",
      "        - AGE      proportion of owner-occupied units built prior to 1940\n",
      "        - DIS      weighted distances to five Boston employment centres\n",
      "        - RAD      index of accessibility to radial highways\n",
      "        - TAX      full-value property-tax rate per $10,000\n",
      "        - PTRATIO  pupil-teacher ratio by town\n",
      "        - B        1000(Bk - 0.63)^2 where Bk is the proportion of black people by town\n",
      "        - LSTAT    % lower status of the population\n",
      "        - MEDV     Median value of owner-occupied homes in $1000's\n",
      "\n",
      "    :Missing Attribute Values: None\n",
      "\n",
      "    :Creator: Harrison, D. and Rubinfeld, D.L.\n",
      "\n",
      "This is a copy of UCI ML housing dataset.\n",
      "https://archive.ics.uci.edu/ml/machine-learning-databases/housing/\n",
      "\n",
      "\n",
      "This dataset was taken from the StatLib library which is maintained at Carnegie Mellon University.\n",
      "\n",
      "The Boston house-price data of Harrison, D. and Rubinfeld, D.L. 'Hedonic\n",
      "prices and the demand for clean air', J. Environ. Economics & Management,\n",
      "vol.5, 81-102, 1978.   Used in Belsley, Kuh & Welsch, 'Regression diagnostics\n",
      "...', Wiley, 1980.   N.B. Various transformations are used in the table on\n",
      "pages 244-261 of the latter.\n",
      "\n",
      "The Boston house-price data has been used in many machine learning papers that address regression\n",
      "problems.   \n",
      "     \n",
      ".. topic:: References\n",
      "\n",
      "   - Belsley, Kuh & Welsch, 'Regression diagnostics: Identifying Influential Data and Sources of Collinearity', Wiley, 1980. 244-261.\n",
      "   - Quinlan,R. (1993). Combining Instance-Based and Model-Based Learning. In Proceedings on the Tenth International Conference of Machine Learning, 236-243, University of Massachusetts, Amherst. Morgan Kaufmann.\n",
      "\n"
     ]
    }
   ],
   "source": [
    "#2\n",
    "from sklearn.datasets import load_boston\n",
    "boston = load_boston()\n",
    "attr = boston.data # attributes that may affact median values\n",
    "medV = boston.target # median value\n",
    "print(boston.feature_names)\n",
    "print( boston.DESCR )"
   ]
  },
  {
   "cell_type": "markdown",
   "id": "156d0b9f",
   "metadata": {},
   "source": [
    "#### Question 2.1\n",
    "Print out the 10th row of attr."
   ]
  },
  {
   "cell_type": "code",
   "execution_count": 84,
   "id": "94203f39",
   "metadata": {},
   "outputs": [
    {
     "name": "stdout",
     "output_type": "stream",
     "text": [
      "[1.7004e-01 1.2500e+01 7.8700e+00 0.0000e+00 5.2400e-01 6.0040e+00\n",
      " 8.5900e+01 6.5921e+00 5.0000e+00 3.1100e+02 1.5200e+01 3.8671e+02\n",
      " 1.7100e+01]\n"
     ]
    }
   ],
   "source": [
    "# Answer 2.1\n",
    "print(attr[9,])\n"
   ]
  },
  {
   "cell_type": "markdown",
   "id": "a0dca006",
   "metadata": {},
   "source": [
    "#### Question 2.2\n",
    "Print out the average number of rooms per dwelling (RM) of the 20th tract."
   ]
  },
  {
   "cell_type": "code",
   "execution_count": 40,
   "id": "b35b83b0",
   "metadata": {},
   "outputs": [
    {
     "name": "stdout",
     "output_type": "stream",
     "text": [
      "5.727\n"
     ]
    }
   ],
   "source": [
    "# Answer 2.2 \n",
    "print(attr[19, 5])"
   ]
  },
  {
   "cell_type": "markdown",
   "id": "907ec26e",
   "metadata": {},
   "source": [
    "#### Question 2.3 \n",
    "Print out all observations whose median values are small than 6. You do not need to include\n",
    "the median value column in your output."
   ]
  },
  {
   "cell_type": "code",
   "execution_count": 67,
   "id": "dbe37216",
   "metadata": {},
   "outputs": [
    {
     "name": "stdout",
     "output_type": "stream",
     "text": [
      "[[ 38.3518   0.      18.1      0.       0.693    5.453  100.       1.4896\n",
      "   24.     666.      20.2    396.9     30.59  ]\n",
      " [ 25.0461   0.      18.1      0.       0.693    5.987  100.       1.5888\n",
      "   24.     666.      20.2    396.9     26.77  ]\n",
      " [ 67.9208   0.      18.1      0.       0.693    5.683  100.       1.4254\n",
      "   24.     666.      20.2    384.97    22.98  ]]\n"
     ]
    }
   ],
   "source": [
    "#Answer 2.3 \n",
    "medV_lessthan_six = medV < 6\n",
    "filtered_attr_lessthan_six = attr[medV_lessthan_six]\n",
    "print(filtered_attr_lessthan_six)\n",
    "\n"
   ]
  },
  {
   "cell_type": "markdown",
   "id": "27df4bf2",
   "metadata": {},
   "source": [
    "#### Question 2.4\n",
    "Print out the average pupil-teacher ratio (PTRATIO) of all the towns whose median values are\n",
    "small than 20."
   ]
  },
  {
   "cell_type": "code",
   "execution_count": 68,
   "id": "cc7f9442",
   "metadata": {},
   "outputs": [
    {
     "data": {
      "text/plain": [
       "19.485238095238092"
      ]
     },
     "execution_count": 68,
     "metadata": {},
     "output_type": "execute_result"
    }
   ],
   "source": [
    "#Answer 2.4\n",
    "medV_lessthan_20 = medV < 20\n",
    "filtered_20_attr = attr[medV_lessthan_20]\n",
    "filtered_by_pupil = filtered_20_attr[0:, 10:11]\n",
    "np.average(filtered_by_pupil)"
   ]
  },
  {
   "cell_type": "markdown",
   "id": "a620ebb6",
   "metadata": {},
   "source": [
    "#### Question 2.5\n",
    "Use numpy array indexing to select and print out INDUS, TAX and LSTAT of the first 5 towns."
   ]
  },
  {
   "cell_type": "code",
   "execution_count": 74,
   "id": "3a4af1b3",
   "metadata": {},
   "outputs": [
    {
     "name": "stdout",
     "output_type": "stream",
     "text": [
      "[[  2.31 296.     4.98]\n",
      " [  7.07 242.     9.14]\n",
      " [  7.07 242.     4.03]\n",
      " [  2.18 222.     2.94]\n",
      " [  2.18 222.     5.33]]\n"
     ]
    }
   ],
   "source": [
    "print(attr[0:5,[2,9,12]])"
   ]
  },
  {
   "cell_type": "markdown",
   "id": "6ce85ac9",
   "metadata": {},
   "source": [
    "### Question 3"
   ]
  },
  {
   "cell_type": "markdown",
   "id": "02d919bd",
   "metadata": {},
   "source": [
    "Write a function my_f(a) that takes a list a as input and computes 6x2 + 2 for every element x\n",
    "in the list a, so that if we execute the following codes, the printed output will be [ 8 56 152].\n",
    "Complete the definition of my_f function."
   ]
  },
  {
   "cell_type": "code",
   "execution_count": 76,
   "id": "c096779c",
   "metadata": {},
   "outputs": [
    {
     "data": {
      "text/plain": [
       "[8, 56, 152]"
      ]
     },
     "execution_count": 76,
     "metadata": {},
     "output_type": "execute_result"
    }
   ],
   "source": [
    "def my_f(a):\n",
    "    final_list = []\n",
    "    for x in a:\n",
    "        result = 6*(x)**2 + 2\n",
    "        final_list.append(result) \n",
    "    return final_list\n",
    "\n",
    "my_f( [1,3,5] )"
   ]
  },
  {
   "cell_type": "code",
   "execution_count": 78,
   "id": "fdb515a6",
   "metadata": {},
   "outputs": [
    {
     "data": {
      "text/plain": [
       "[8, 56, 152]"
      ]
     },
     "execution_count": 78,
     "metadata": {},
     "output_type": "execute_result"
    }
   ],
   "source": [
    "def my_f(a):\n",
    "    return [6*x**2 + 2 for x in a]\n",
    "\n",
    "my_f([1,3,5])"
   ]
  }
 ],
 "metadata": {
  "kernelspec": {
   "display_name": "Python 3 (ipykernel)",
   "language": "python",
   "name": "python3"
  },
  "language_info": {
   "codemirror_mode": {
    "name": "ipython",
    "version": 3
   },
   "file_extension": ".py",
   "mimetype": "text/x-python",
   "name": "python",
   "nbconvert_exporter": "python",
   "pygments_lexer": "ipython3",
   "version": "3.9.12"
  }
 },
 "nbformat": 4,
 "nbformat_minor": 5
}
